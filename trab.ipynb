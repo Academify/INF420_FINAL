{
 "cells": [
  {
   "attachments": {},
   "cell_type": "markdown",
   "metadata": {},
   "source": [
    "# Introdução\n",
    "\n",
    "O objetivo deste trabalho é analisar um conjunto de fatores relacionados a estilo de vida e saúde e também suas correlações para que possamos ter precisão na predição de diabetes. Os fatores analisados neste trabalho são relacionados a aspectos comuns a todos os humanos como idade e sexo mas também envolvem histórico e hábitos como histórico de tabagismo, hipertensão e ataque cardíaco e por fim, dados relacionados a anamnese: indice de massa corporal e nível de glicose no sangue. Este trabalho visa correlacionar e fornecer informações sobre os padrões e possibilidades de desenvolvimento de diabetes e também predizer com precisão satisfatória para novos indivíduos a possibilidade de desenvolvimento da doença de modo a auxiliar os profissionais da área da saúde no acolhimento e tratamento dos pacientes diabéticos.\n"
   ]
  },
  {
   "attachments": {},
   "cell_type": "markdown",
   "metadata": {},
   "source": [
    "# Conjunto de dados\n",
    "\n"
   ]
  }
 ],
 "metadata": {
  "language_info": {
   "name": "python"
  },
  "orig_nbformat": 4
 },
 "nbformat": 4,
 "nbformat_minor": 2
}
